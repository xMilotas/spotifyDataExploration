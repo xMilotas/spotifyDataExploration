{
 "metadata": {
  "language_info": {
   "codemirror_mode": {
    "name": "ipython",
    "version": 3
   },
   "file_extension": ".py",
   "mimetype": "text/x-python",
   "name": "python",
   "nbconvert_exporter": "python",
   "pygments_lexer": "ipython3",
   "version": "3.8.5-final"
  },
  "orig_nbformat": 2,
  "kernelspec": {
   "name": "python3",
   "display_name": "Python 3",
   "language": "python"
  }
 },
 "nbformat": 4,
 "nbformat_minor": 2,
 "cells": [
  {
   "cell_type": "code",
   "execution_count": 1,
   "metadata": {},
   "outputs": [],
   "source": [
    "import pandas as pd\n",
    "import glob"
   ]
  },
  {
   "cell_type": "code",
   "execution_count": 2,
   "metadata": {},
   "outputs": [],
   "source": [
    "# Load the data"
   ]
  },
  {
   "cell_type": "code",
   "execution_count": 3,
   "metadata": {},
   "outputs": [],
   "source": [
    "data = glob.glob('./data/*')"
   ]
  },
  {
   "cell_type": "code",
   "execution_count": 4,
   "metadata": {},
   "outputs": [],
   "source": [
    "# collect data\n",
    "temp = []\n",
    "for file in data:\n",
    "    df = pd.read_json(file, date_unit=\"ms\", convert_axes=True)\n",
    "    # Store new frame in an array (Performance: https://stackoverflow.com/questions/36489576/why-does-concatenation-of-dataframes-get-exponentially-slower)\n",
    "    temp.append(df)\n",
    "spotifyData = pd.concat(temp)"
   ]
  },
  {
   "cell_type": "code",
   "execution_count": 7,
   "metadata": {},
   "outputs": [
    {
     "output_type": "execute_result",
     "data": {
      "text/plain": [
       "               endTime     artistName          trackName  msPlayed\n",
       "0     2020-05-29 15:22  Fynn Kliemann  Alles was ich hab      4026\n",
       "1     2020-05-29 15:26  Fynn Kliemann             Warten    264288\n",
       "2     2020-05-29 15:29  Fynn Kliemann           Die Hook    172363\n",
       "3     2020-05-29 15:31  Fynn Kliemann  Liebster Wahnsinn     95118\n",
       "4     2020-05-29 15:35  Fynn Kliemann              Regen    224003\n",
       "...                ...            ...                ...       ...\n",
       "6154  2020-11-08 15:04         minite       Be Your Home    151111\n",
       "6155  2020-11-08 15:07     Nina Young    Sunsets & Birds    148211\n",
       "6156  2020-11-08 15:10             AK          All Equal    222992\n",
       "6157  2020-11-08 15:13           NLSN       Cloud Forest    133163\n",
       "6158  2020-11-08 15:15          Mauve               1984    157358\n",
       "\n",
       "[168643 rows x 4 columns]"
      ],
      "text/html": "<div>\n<style scoped>\n    .dataframe tbody tr th:only-of-type {\n        vertical-align: middle;\n    }\n\n    .dataframe tbody tr th {\n        vertical-align: top;\n    }\n\n    .dataframe thead th {\n        text-align: right;\n    }\n</style>\n<table border=\"1\" class=\"dataframe\">\n  <thead>\n    <tr style=\"text-align: right;\">\n      <th></th>\n      <th>endTime</th>\n      <th>artistName</th>\n      <th>trackName</th>\n      <th>msPlayed</th>\n    </tr>\n  </thead>\n  <tbody>\n    <tr>\n      <th>0</th>\n      <td>2020-05-29 15:22</td>\n      <td>Fynn Kliemann</td>\n      <td>Alles was ich hab</td>\n      <td>4026</td>\n    </tr>\n    <tr>\n      <th>1</th>\n      <td>2020-05-29 15:26</td>\n      <td>Fynn Kliemann</td>\n      <td>Warten</td>\n      <td>264288</td>\n    </tr>\n    <tr>\n      <th>2</th>\n      <td>2020-05-29 15:29</td>\n      <td>Fynn Kliemann</td>\n      <td>Die Hook</td>\n      <td>172363</td>\n    </tr>\n    <tr>\n      <th>3</th>\n      <td>2020-05-29 15:31</td>\n      <td>Fynn Kliemann</td>\n      <td>Liebster Wahnsinn</td>\n      <td>95118</td>\n    </tr>\n    <tr>\n      <th>4</th>\n      <td>2020-05-29 15:35</td>\n      <td>Fynn Kliemann</td>\n      <td>Regen</td>\n      <td>224003</td>\n    </tr>\n    <tr>\n      <th>...</th>\n      <td>...</td>\n      <td>...</td>\n      <td>...</td>\n      <td>...</td>\n    </tr>\n    <tr>\n      <th>6154</th>\n      <td>2020-11-08 15:04</td>\n      <td>minite</td>\n      <td>Be Your Home</td>\n      <td>151111</td>\n    </tr>\n    <tr>\n      <th>6155</th>\n      <td>2020-11-08 15:07</td>\n      <td>Nina Young</td>\n      <td>Sunsets &amp; Birds</td>\n      <td>148211</td>\n    </tr>\n    <tr>\n      <th>6156</th>\n      <td>2020-11-08 15:10</td>\n      <td>AK</td>\n      <td>All Equal</td>\n      <td>222992</td>\n    </tr>\n    <tr>\n      <th>6157</th>\n      <td>2020-11-08 15:13</td>\n      <td>NLSN</td>\n      <td>Cloud Forest</td>\n      <td>133163</td>\n    </tr>\n    <tr>\n      <th>6158</th>\n      <td>2020-11-08 15:15</td>\n      <td>Mauve</td>\n      <td>1984</td>\n      <td>157358</td>\n    </tr>\n  </tbody>\n</table>\n<p>168643 rows × 4 columns</p>\n</div>"
     },
     "metadata": {},
     "execution_count": 7
    }
   ],
   "source": [
    "spotifyData"
   ]
  },
  {
   "cell_type": "code",
   "execution_count": null,
   "metadata": {},
   "outputs": [],
   "source": [
    "# What is our current date range?"
   ]
  },
  {
   "cell_type": "code",
   "execution_count": 12,
   "metadata": {},
   "outputs": [
    {
     "output_type": "execute_result",
     "data": {
      "text/plain": [
       "'Currently analyzing data between: 2018-10-12 14:47, and 2021-03-22 17:41'"
      ]
     },
     "metadata": {},
     "execution_count": 12
    }
   ],
   "source": [
    "f'Currently analyzing data between: {min(spotifyData.endTime)}, and {max(spotifyData.endTime)}'"
   ]
  },
  {
   "cell_type": "code",
   "execution_count": 13,
   "metadata": {},
   "outputs": [],
   "source": [
    "# How many unique values do we have? / Do we have duplicates?"
   ]
  },
  {
   "cell_type": "code",
   "execution_count": 27,
   "metadata": {},
   "outputs": [
    {
     "output_type": "execute_result",
     "data": {
      "text/plain": [
       "'There is a total number of 168643 rows. 94460 of which are unique'"
      ]
     },
     "metadata": {},
     "execution_count": 27
    }
   ],
   "source": [
    "f'There is a total number of {spotifyData.count().endTime} rows. {spotifyData.drop_duplicates().count().endTime} of which are unique' "
   ]
  },
  {
   "cell_type": "code",
   "execution_count": 66,
   "metadata": {},
   "outputs": [],
   "source": [
    "spotifyData = spotifyData.drop_duplicates()"
   ]
  },
  {
   "cell_type": "code",
   "execution_count": 28,
   "metadata": {},
   "outputs": [],
   "source": [
    "# Whats the most played songs by ms played? How long did I play them?"
   ]
  },
  {
   "cell_type": "code",
   "execution_count": 50,
   "metadata": {},
   "outputs": [
    {
     "output_type": "execute_result",
     "data": {
      "text/plain": [
       "                                                         msPlayed  \\\n",
       "trackName                              artistName                   \n",
       "Nevers Road                            Witt Lowry        66257260   \n",
       "I Don't Care                           Our Last Night    43365446   \n",
       "Make A Promise (feat. Elle Vee)        Culture Code      39671692   \n",
       "The New American Religion              Signals           37359431   \n",
       "Silhouettes                            FYKE              36210699   \n",
       "Fingerprints                           Dylan Owen        35527954   \n",
       "Solange du dich bewegst                Wilhelmine        33024115   \n",
       "Kindest Regards                        Witt Lowry        32721138   \n",
       "We’ll Always Have Paris                Capstan           32461650   \n",
       "Zuhause                                Fynn Kliemann     32174144   \n",
       "Wildfire                               Forest Blakk      31332960   \n",
       "Time                                   NF                30811038   \n",
       "Face My Fears                          Wind Walkers      30572642   \n",
       "hot girl bummer                        Our Last Night    30286644   \n",
       "Stories                                Rowlan            30268912   \n",
       "Call You Mine                          The Chainsmokers  30149703   \n",
       "Ghosts                                 Dylan Owen        30125292   \n",
       "Home                                   shye.             29707317   \n",
       "CHANGES                                Witt Lowry        29343521   \n",
       "Ghosts Revisited (feat. Kiah Victoria) Dylan Owen        29148372   \n",
       "\n",
       "                                                         secondsPlayed  \\\n",
       "trackName                              artistName                        \n",
       "Nevers Road                            Witt Lowry            662572.60   \n",
       "I Don't Care                           Our Last Night        433654.46   \n",
       "Make A Promise (feat. Elle Vee)        Culture Code          396716.92   \n",
       "The New American Religion              Signals               373594.31   \n",
       "Silhouettes                            FYKE                  362106.99   \n",
       "Fingerprints                           Dylan Owen            355279.54   \n",
       "Solange du dich bewegst                Wilhelmine            330241.15   \n",
       "Kindest Regards                        Witt Lowry            327211.38   \n",
       "We’ll Always Have Paris                Capstan               324616.50   \n",
       "Zuhause                                Fynn Kliemann         321741.44   \n",
       "Wildfire                               Forest Blakk          313329.60   \n",
       "Time                                   NF                    308110.38   \n",
       "Face My Fears                          Wind Walkers          305726.42   \n",
       "hot girl bummer                        Our Last Night        302866.44   \n",
       "Stories                                Rowlan                302689.12   \n",
       "Call You Mine                          The Chainsmokers      301497.03   \n",
       "Ghosts                                 Dylan Owen            301252.92   \n",
       "Home                                   shye.                 297073.17   \n",
       "CHANGES                                Witt Lowry            293435.21   \n",
       "Ghosts Revisited (feat. Kiah Victoria) Dylan Owen            291483.72   \n",
       "\n",
       "                                                         minutesPlayed  \\\n",
       "trackName                              artistName                        \n",
       "Nevers Road                            Witt Lowry         11042.876667   \n",
       "I Don't Care                           Our Last Night      7227.574333   \n",
       "Make A Promise (feat. Elle Vee)        Culture Code        6611.948667   \n",
       "The New American Religion              Signals             6226.571833   \n",
       "Silhouettes                            FYKE                6035.116500   \n",
       "Fingerprints                           Dylan Owen          5921.325667   \n",
       "Solange du dich bewegst                Wilhelmine          5504.019167   \n",
       "Kindest Regards                        Witt Lowry          5453.523000   \n",
       "We’ll Always Have Paris                Capstan             5410.275000   \n",
       "Zuhause                                Fynn Kliemann       5362.357333   \n",
       "Wildfire                               Forest Blakk        5222.160000   \n",
       "Time                                   NF                  5135.173000   \n",
       "Face My Fears                          Wind Walkers        5095.440333   \n",
       "hot girl bummer                        Our Last Night      5047.774000   \n",
       "Stories                                Rowlan              5044.818667   \n",
       "Call You Mine                          The Chainsmokers    5024.950500   \n",
       "Ghosts                                 Dylan Owen          5020.882000   \n",
       "Home                                   shye.               4951.219500   \n",
       "CHANGES                                Witt Lowry          4890.586833   \n",
       "Ghosts Revisited (feat. Kiah Victoria) Dylan Owen          4858.062000   \n",
       "\n",
       "                                                         hoursPlayed  \n",
       "trackName                              artistName                     \n",
       "Nevers Road                            Witt Lowry         184.047944  \n",
       "I Don't Care                           Our Last Night     120.459572  \n",
       "Make A Promise (feat. Elle Vee)        Culture Code       110.199144  \n",
       "The New American Religion              Signals            103.776197  \n",
       "Silhouettes                            FYKE               100.585275  \n",
       "Fingerprints                           Dylan Owen          98.688761  \n",
       "Solange du dich bewegst                Wilhelmine          91.733653  \n",
       "Kindest Regards                        Witt Lowry          90.892050  \n",
       "We’ll Always Have Paris                Capstan             90.171250  \n",
       "Zuhause                                Fynn Kliemann       89.372622  \n",
       "Wildfire                               Forest Blakk        87.036000  \n",
       "Time                                   NF                  85.586217  \n",
       "Face My Fears                          Wind Walkers        84.924006  \n",
       "hot girl bummer                        Our Last Night      84.129567  \n",
       "Stories                                Rowlan              84.080311  \n",
       "Call You Mine                          The Chainsmokers    83.749175  \n",
       "Ghosts                                 Dylan Owen          83.681367  \n",
       "Home                                   shye.               82.520325  \n",
       "CHANGES                                Witt Lowry          81.509781  \n",
       "Ghosts Revisited (feat. Kiah Victoria) Dylan Owen          80.967700  "
      ],
      "text/html": "<div>\n<style scoped>\n    .dataframe tbody tr th:only-of-type {\n        vertical-align: middle;\n    }\n\n    .dataframe tbody tr th {\n        vertical-align: top;\n    }\n\n    .dataframe thead th {\n        text-align: right;\n    }\n</style>\n<table border=\"1\" class=\"dataframe\">\n  <thead>\n    <tr style=\"text-align: right;\">\n      <th></th>\n      <th></th>\n      <th>msPlayed</th>\n      <th>secondsPlayed</th>\n      <th>minutesPlayed</th>\n      <th>hoursPlayed</th>\n    </tr>\n    <tr>\n      <th>trackName</th>\n      <th>artistName</th>\n      <th></th>\n      <th></th>\n      <th></th>\n      <th></th>\n    </tr>\n  </thead>\n  <tbody>\n    <tr>\n      <th>Nevers Road</th>\n      <th>Witt Lowry</th>\n      <td>66257260</td>\n      <td>662572.60</td>\n      <td>11042.876667</td>\n      <td>184.047944</td>\n    </tr>\n    <tr>\n      <th>I Don't Care</th>\n      <th>Our Last Night</th>\n      <td>43365446</td>\n      <td>433654.46</td>\n      <td>7227.574333</td>\n      <td>120.459572</td>\n    </tr>\n    <tr>\n      <th>Make A Promise (feat. Elle Vee)</th>\n      <th>Culture Code</th>\n      <td>39671692</td>\n      <td>396716.92</td>\n      <td>6611.948667</td>\n      <td>110.199144</td>\n    </tr>\n    <tr>\n      <th>The New American Religion</th>\n      <th>Signals</th>\n      <td>37359431</td>\n      <td>373594.31</td>\n      <td>6226.571833</td>\n      <td>103.776197</td>\n    </tr>\n    <tr>\n      <th>Silhouettes</th>\n      <th>FYKE</th>\n      <td>36210699</td>\n      <td>362106.99</td>\n      <td>6035.116500</td>\n      <td>100.585275</td>\n    </tr>\n    <tr>\n      <th>Fingerprints</th>\n      <th>Dylan Owen</th>\n      <td>35527954</td>\n      <td>355279.54</td>\n      <td>5921.325667</td>\n      <td>98.688761</td>\n    </tr>\n    <tr>\n      <th>Solange du dich bewegst</th>\n      <th>Wilhelmine</th>\n      <td>33024115</td>\n      <td>330241.15</td>\n      <td>5504.019167</td>\n      <td>91.733653</td>\n    </tr>\n    <tr>\n      <th>Kindest Regards</th>\n      <th>Witt Lowry</th>\n      <td>32721138</td>\n      <td>327211.38</td>\n      <td>5453.523000</td>\n      <td>90.892050</td>\n    </tr>\n    <tr>\n      <th>We’ll Always Have Paris</th>\n      <th>Capstan</th>\n      <td>32461650</td>\n      <td>324616.50</td>\n      <td>5410.275000</td>\n      <td>90.171250</td>\n    </tr>\n    <tr>\n      <th>Zuhause</th>\n      <th>Fynn Kliemann</th>\n      <td>32174144</td>\n      <td>321741.44</td>\n      <td>5362.357333</td>\n      <td>89.372622</td>\n    </tr>\n    <tr>\n      <th>Wildfire</th>\n      <th>Forest Blakk</th>\n      <td>31332960</td>\n      <td>313329.60</td>\n      <td>5222.160000</td>\n      <td>87.036000</td>\n    </tr>\n    <tr>\n      <th>Time</th>\n      <th>NF</th>\n      <td>30811038</td>\n      <td>308110.38</td>\n      <td>5135.173000</td>\n      <td>85.586217</td>\n    </tr>\n    <tr>\n      <th>Face My Fears</th>\n      <th>Wind Walkers</th>\n      <td>30572642</td>\n      <td>305726.42</td>\n      <td>5095.440333</td>\n      <td>84.924006</td>\n    </tr>\n    <tr>\n      <th>hot girl bummer</th>\n      <th>Our Last Night</th>\n      <td>30286644</td>\n      <td>302866.44</td>\n      <td>5047.774000</td>\n      <td>84.129567</td>\n    </tr>\n    <tr>\n      <th>Stories</th>\n      <th>Rowlan</th>\n      <td>30268912</td>\n      <td>302689.12</td>\n      <td>5044.818667</td>\n      <td>84.080311</td>\n    </tr>\n    <tr>\n      <th>Call You Mine</th>\n      <th>The Chainsmokers</th>\n      <td>30149703</td>\n      <td>301497.03</td>\n      <td>5024.950500</td>\n      <td>83.749175</td>\n    </tr>\n    <tr>\n      <th>Ghosts</th>\n      <th>Dylan Owen</th>\n      <td>30125292</td>\n      <td>301252.92</td>\n      <td>5020.882000</td>\n      <td>83.681367</td>\n    </tr>\n    <tr>\n      <th>Home</th>\n      <th>shye.</th>\n      <td>29707317</td>\n      <td>297073.17</td>\n      <td>4951.219500</td>\n      <td>82.520325</td>\n    </tr>\n    <tr>\n      <th>CHANGES</th>\n      <th>Witt Lowry</th>\n      <td>29343521</td>\n      <td>293435.21</td>\n      <td>4890.586833</td>\n      <td>81.509781</td>\n    </tr>\n    <tr>\n      <th>Ghosts Revisited (feat. Kiah Victoria)</th>\n      <th>Dylan Owen</th>\n      <td>29148372</td>\n      <td>291483.72</td>\n      <td>4858.062000</td>\n      <td>80.967700</td>\n    </tr>\n  </tbody>\n</table>\n</div>"
     },
     "metadata": {},
     "execution_count": 50
    }
   ],
   "source": [
    "spotifyData.groupby([\"trackName\", \"artistName\"]).sum().sort_values(\"msPlayed\", ascending=False).head(20)"
   ]
  },
  {
   "cell_type": "code",
   "execution_count": 44,
   "metadata": {},
   "outputs": [],
   "source": [
    "# Lets run this again, but instead make our data more readable by adding seconds/minutes/hours"
   ]
  },
  {
   "cell_type": "code",
   "execution_count": 48,
   "metadata": {},
   "outputs": [],
   "source": [
    "spotifyData[\"secondsPlayed\"] = spotifyData.msPlayed/100\n",
    "spotifyData[\"minutesPlayed\"] = spotifyData.secondsPlayed/60\n",
    "spotifyData[\"hoursPlayed\"] = spotifyData.minutesPlayed/60"
   ]
  },
  {
   "cell_type": "code",
   "execution_count": 91,
   "metadata": {},
   "outputs": [
    {
     "output_type": "execute_result",
     "data": {
      "text/plain": [
       "                                                       totalTimePlayedMs  \\\n",
       "trackName                              artistName                          \n",
       "Nevers Road                            Witt Lowry               32565238   \n",
       "Fingerprints                           Dylan Owen               26897092   \n",
       "Ghosts Revisited (feat. Kiah Victoria) Dylan Owen               21112214   \n",
       "Ghosts                                 Dylan Owen               18970573   \n",
       "Kindest Regards                        Witt Lowry               18521294   \n",
       "...                                                                  ...   \n",
       "Auffe abe                              Ischgl 3                        0   \n",
       "Bonfire                                The Hunna                       0   \n",
       "Facts                                  Moneybagg Yo                    0   \n",
       "Break My Heart                         HEY LIFE                        0   \n",
       "Scared of Change                       Our Last Night                  0   \n",
       "\n",
       "                                                       totalTimePlayedMinutes  \\\n",
       "trackName                              artistName                               \n",
       "Nevers Road                            Witt Lowry                 5427.539667   \n",
       "Fingerprints                           Dylan Owen                 4482.848667   \n",
       "Ghosts Revisited (feat. Kiah Victoria) Dylan Owen                 3518.702333   \n",
       "Ghosts                                 Dylan Owen                 3161.762167   \n",
       "Kindest Regards                        Witt Lowry                 3086.882333   \n",
       "...                                                                       ...   \n",
       "Auffe abe                              Ischgl 3                      0.000000   \n",
       "Bonfire                                The Hunna                     0.000000   \n",
       "Facts                                  Moneybagg Yo                  0.000000   \n",
       "Break My Heart                         HEY LIFE                      0.000000   \n",
       "Scared of Change                       Our Last Night                0.000000   \n",
       "\n",
       "                                                       totalPlayCounts  \n",
       "trackName                              artistName                       \n",
       "Nevers Road                            Witt Lowry                  137  \n",
       "Fingerprints                           Dylan Owen                  127  \n",
       "Ghosts Revisited (feat. Kiah Victoria) Dylan Owen                   82  \n",
       "Ghosts                                 Dylan Owen                   85  \n",
       "Kindest Regards                        Witt Lowry                   76  \n",
       "...                                                                ...  \n",
       "Auffe abe                              Ischgl 3                      1  \n",
       "Bonfire                                The Hunna                     1  \n",
       "Facts                                  Moneybagg Yo                  1  \n",
       "Break My Heart                         HEY LIFE                      1  \n",
       "Scared of Change                       Our Last Night                1  \n",
       "\n",
       "[16560 rows x 3 columns]"
      ],
      "text/html": "<div>\n<style scoped>\n    .dataframe tbody tr th:only-of-type {\n        vertical-align: middle;\n    }\n\n    .dataframe tbody tr th {\n        vertical-align: top;\n    }\n\n    .dataframe thead th {\n        text-align: right;\n    }\n</style>\n<table border=\"1\" class=\"dataframe\">\n  <thead>\n    <tr style=\"text-align: right;\">\n      <th></th>\n      <th></th>\n      <th>totalTimePlayedMs</th>\n      <th>totalTimePlayedMinutes</th>\n      <th>totalPlayCounts</th>\n    </tr>\n    <tr>\n      <th>trackName</th>\n      <th>artistName</th>\n      <th></th>\n      <th></th>\n      <th></th>\n    </tr>\n  </thead>\n  <tbody>\n    <tr>\n      <th>Nevers Road</th>\n      <th>Witt Lowry</th>\n      <td>32565238</td>\n      <td>5427.539667</td>\n      <td>137</td>\n    </tr>\n    <tr>\n      <th>Fingerprints</th>\n      <th>Dylan Owen</th>\n      <td>26897092</td>\n      <td>4482.848667</td>\n      <td>127</td>\n    </tr>\n    <tr>\n      <th>Ghosts Revisited (feat. Kiah Victoria)</th>\n      <th>Dylan Owen</th>\n      <td>21112214</td>\n      <td>3518.702333</td>\n      <td>82</td>\n    </tr>\n    <tr>\n      <th>Ghosts</th>\n      <th>Dylan Owen</th>\n      <td>18970573</td>\n      <td>3161.762167</td>\n      <td>85</td>\n    </tr>\n    <tr>\n      <th>Kindest Regards</th>\n      <th>Witt Lowry</th>\n      <td>18521294</td>\n      <td>3086.882333</td>\n      <td>76</td>\n    </tr>\n    <tr>\n      <th>...</th>\n      <th>...</th>\n      <td>...</td>\n      <td>...</td>\n      <td>...</td>\n    </tr>\n    <tr>\n      <th>Auffe abe</th>\n      <th>Ischgl 3</th>\n      <td>0</td>\n      <td>0.000000</td>\n      <td>1</td>\n    </tr>\n    <tr>\n      <th>Bonfire</th>\n      <th>The Hunna</th>\n      <td>0</td>\n      <td>0.000000</td>\n      <td>1</td>\n    </tr>\n    <tr>\n      <th>Facts</th>\n      <th>Moneybagg Yo</th>\n      <td>0</td>\n      <td>0.000000</td>\n      <td>1</td>\n    </tr>\n    <tr>\n      <th>Break My Heart</th>\n      <th>HEY LIFE</th>\n      <td>0</td>\n      <td>0.000000</td>\n      <td>1</td>\n    </tr>\n    <tr>\n      <th>Scared of Change</th>\n      <th>Our Last Night</th>\n      <td>0</td>\n      <td>0.000000</td>\n      <td>1</td>\n    </tr>\n  </tbody>\n</table>\n<p>16560 rows × 3 columns</p>\n</div>"
     },
     "metadata": {},
     "execution_count": 91
    }
   ],
   "source": [
    "spotifyData.groupby([\"trackName\", \"artistName\"]).agg(\n",
    "    totalTimePlayedMs=('msPlayed', 'sum'),\n",
    "    totalTimePlayedMinutes=('minutesPlayed', 'sum'),\n",
    "    totalPlayCounts=('msPlayed', 'count')).sort_values(\"totalTimePlayedMs\", ascending=False)"
   ]
  },
  {
   "cell_type": "code",
   "execution_count": 53,
   "metadata": {},
   "outputs": [],
   "source": [
    "# What are my all time most played artists?"
   ]
  },
  {
   "cell_type": "code",
   "execution_count": 70,
   "metadata": {},
   "outputs": [
    {
     "output_type": "execute_result",
     "data": {
      "text/plain": [
       "                    msPlayed  secondsPlayed  minutesPlayed  hoursPlayed\n",
       "artistName                                                             \n",
       "Dylan Owen         296111672     2961116.72   49351.945333   822.532422\n",
       "Witt Lowry         241290048     2412900.48   40215.008000   670.250133\n",
       "Our Last Night     171507878     1715078.78   28584.646333   476.410772\n",
       "EDEN               140251592     1402515.92   23375.265333   389.587756\n",
       "Fynn Kliemann      126500494     1265004.94   21083.415667   351.390261\n",
       "Sleeping At Last    93818209      938182.09   15636.368167   260.606136\n",
       "William Ryan Key    92903690      929036.90   15483.948333   258.065806\n",
       "Mayday Parade       86947073      869470.73   14491.178833   241.519647\n",
       "NF                  85507442      855074.42   14251.240333   237.520672\n",
       "Linkin Park         77949612      779496.12   12991.602000   216.526700\n",
       "The Chainsmokers    75456343      754563.43   12576.057167   209.600953\n",
       "State Champs        69107791      691077.91   11517.965167   191.966086\n",
       "Jeremy Zucker       63928208      639282.08   10654.701333   177.578356\n",
       "blackbear           59553601      595536.01    9925.600167   165.426669\n",
       "Seven Lions         59314457      593144.57    9885.742833   164.762381\n",
       "Machine Gun Kelly   58023769      580237.69    9670.628167   161.177136\n",
       "Lauv                54990787      549907.87    9165.131167   152.752186\n",
       "This Wild Life      53249201      532492.01    8874.866833   147.914447\n",
       "ILLENIUM            52813903      528139.03    8802.317167   146.705286\n",
       "Halsey              52507726      525077.26    8751.287667   145.854794"
      ],
      "text/html": "<div>\n<style scoped>\n    .dataframe tbody tr th:only-of-type {\n        vertical-align: middle;\n    }\n\n    .dataframe tbody tr th {\n        vertical-align: top;\n    }\n\n    .dataframe thead th {\n        text-align: right;\n    }\n</style>\n<table border=\"1\" class=\"dataframe\">\n  <thead>\n    <tr style=\"text-align: right;\">\n      <th></th>\n      <th>msPlayed</th>\n      <th>secondsPlayed</th>\n      <th>minutesPlayed</th>\n      <th>hoursPlayed</th>\n    </tr>\n    <tr>\n      <th>artistName</th>\n      <th></th>\n      <th></th>\n      <th></th>\n      <th></th>\n    </tr>\n  </thead>\n  <tbody>\n    <tr>\n      <th>Dylan Owen</th>\n      <td>296111672</td>\n      <td>2961116.72</td>\n      <td>49351.945333</td>\n      <td>822.532422</td>\n    </tr>\n    <tr>\n      <th>Witt Lowry</th>\n      <td>241290048</td>\n      <td>2412900.48</td>\n      <td>40215.008000</td>\n      <td>670.250133</td>\n    </tr>\n    <tr>\n      <th>Our Last Night</th>\n      <td>171507878</td>\n      <td>1715078.78</td>\n      <td>28584.646333</td>\n      <td>476.410772</td>\n    </tr>\n    <tr>\n      <th>EDEN</th>\n      <td>140251592</td>\n      <td>1402515.92</td>\n      <td>23375.265333</td>\n      <td>389.587756</td>\n    </tr>\n    <tr>\n      <th>Fynn Kliemann</th>\n      <td>126500494</td>\n      <td>1265004.94</td>\n      <td>21083.415667</td>\n      <td>351.390261</td>\n    </tr>\n    <tr>\n      <th>Sleeping At Last</th>\n      <td>93818209</td>\n      <td>938182.09</td>\n      <td>15636.368167</td>\n      <td>260.606136</td>\n    </tr>\n    <tr>\n      <th>William Ryan Key</th>\n      <td>92903690</td>\n      <td>929036.90</td>\n      <td>15483.948333</td>\n      <td>258.065806</td>\n    </tr>\n    <tr>\n      <th>Mayday Parade</th>\n      <td>86947073</td>\n      <td>869470.73</td>\n      <td>14491.178833</td>\n      <td>241.519647</td>\n    </tr>\n    <tr>\n      <th>NF</th>\n      <td>85507442</td>\n      <td>855074.42</td>\n      <td>14251.240333</td>\n      <td>237.520672</td>\n    </tr>\n    <tr>\n      <th>Linkin Park</th>\n      <td>77949612</td>\n      <td>779496.12</td>\n      <td>12991.602000</td>\n      <td>216.526700</td>\n    </tr>\n    <tr>\n      <th>The Chainsmokers</th>\n      <td>75456343</td>\n      <td>754563.43</td>\n      <td>12576.057167</td>\n      <td>209.600953</td>\n    </tr>\n    <tr>\n      <th>State Champs</th>\n      <td>69107791</td>\n      <td>691077.91</td>\n      <td>11517.965167</td>\n      <td>191.966086</td>\n    </tr>\n    <tr>\n      <th>Jeremy Zucker</th>\n      <td>63928208</td>\n      <td>639282.08</td>\n      <td>10654.701333</td>\n      <td>177.578356</td>\n    </tr>\n    <tr>\n      <th>blackbear</th>\n      <td>59553601</td>\n      <td>595536.01</td>\n      <td>9925.600167</td>\n      <td>165.426669</td>\n    </tr>\n    <tr>\n      <th>Seven Lions</th>\n      <td>59314457</td>\n      <td>593144.57</td>\n      <td>9885.742833</td>\n      <td>164.762381</td>\n    </tr>\n    <tr>\n      <th>Machine Gun Kelly</th>\n      <td>58023769</td>\n      <td>580237.69</td>\n      <td>9670.628167</td>\n      <td>161.177136</td>\n    </tr>\n    <tr>\n      <th>Lauv</th>\n      <td>54990787</td>\n      <td>549907.87</td>\n      <td>9165.131167</td>\n      <td>152.752186</td>\n    </tr>\n    <tr>\n      <th>This Wild Life</th>\n      <td>53249201</td>\n      <td>532492.01</td>\n      <td>8874.866833</td>\n      <td>147.914447</td>\n    </tr>\n    <tr>\n      <th>ILLENIUM</th>\n      <td>52813903</td>\n      <td>528139.03</td>\n      <td>8802.317167</td>\n      <td>146.705286</td>\n    </tr>\n    <tr>\n      <th>Halsey</th>\n      <td>52507726</td>\n      <td>525077.26</td>\n      <td>8751.287667</td>\n      <td>145.854794</td>\n    </tr>\n  </tbody>\n</table>\n</div>"
     },
     "metadata": {},
     "execution_count": 70
    }
   ],
   "source": [
    "spotifyData.groupby(\"artistName\").sum().sort_values(\"msPlayed\", ascending=False).head(20)"
   ]
  },
  {
   "cell_type": "code",
   "execution_count": 59,
   "metadata": {},
   "outputs": [],
   "source": [
    "# Whats the total number of minutes that I listed to music?"
   ]
  },
  {
   "cell_type": "code",
   "execution_count": 67,
   "metadata": {},
   "outputs": [],
   "source": [
    "totalTime = spotifyData.minutesPlayed.sum()"
   ]
  },
  {
   "cell_type": "code",
   "execution_count": 69,
   "metadata": {},
   "outputs": [
    {
     "output_type": "execute_result",
     "data": {
      "text/plain": [
       "(42753.04795555556, 1781.3769981481482)"
      ]
     },
     "metadata": {},
     "execution_count": 69
    }
   ],
   "source": [
    "totalTime/60, totalTime/60/24"
   ]
  },
  {
   "cell_type": "code",
   "execution_count": null,
   "metadata": {},
   "outputs": [],
   "source": [
    "# First mistake :) - I forgot to actually use the data without duplicates. "
   ]
  }
 ]
}